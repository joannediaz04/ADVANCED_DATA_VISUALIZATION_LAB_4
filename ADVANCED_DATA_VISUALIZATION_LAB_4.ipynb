{
  "nbformat": 4,
  "nbformat_minor": 0,
  "metadata": {
    "colab": {
      "provenance": [],
      "authorship_tag": "ABX9TyMJmwJB2WwmSkc8TveIvO7y",
      "include_colab_link": true
    },
    "kernelspec": {
      "name": "python3",
      "display_name": "Python 3"
    },
    "language_info": {
      "name": "python"
    }
  },
  "cells": [
    {
      "cell_type": "markdown",
      "metadata": {
        "id": "view-in-github",
        "colab_type": "text"
      },
      "source": [
        "<a href=\"https://colab.research.google.com/github/joannediaz04/ADVANCED_DATA_VISUALIZATION_LAB_4/blob/main/ADVANCED_DATA_VISUALIZATION_LAB_4.ipynb\" target=\"_parent\"><img src=\"https://colab.research.google.com/assets/colab-badge.svg\" alt=\"Open In Colab\"/></a>"
      ]
    },
    {
      "cell_type": "code",
      "execution_count": null,
      "metadata": {
        "id": "k7xfT0jmtFCW",
        "colab": {
          "base_uri": "https://localhost:8080/"
        },
        "outputId": "ec0d23d8-4d0d-4ce8-bc50-7070cb888b1b"
      },
      "outputs": [
        {
          "output_type": "stream",
          "name": "stdout",
          "text": [
            "Enter the first number:12\n",
            "Enter the second number:12\n",
            "Sum: 12 - 12 = 0.0\n"
          ]
        }
      ],
      "source": [
        "z1 = input(\"Enter the first number:\")\n",
        "z2 = input(\"Enter the second number:\")\n",
        "\n",
        "difference = float(z1) - float(z2)\n",
        "print(\"Sum: {0} - {1} = {2}\".format(z1, z2,difference))"
      ]
    },
    {
      "cell_type": "code",
      "source": [
        "z1 = input(\"Enter the first number:\")\n",
        "z2 = input(\"Enter the second number:\")\n",
        "\n",
        "product = float(z1) *float(z2)\n",
        "print(\"Sum: {0} * {1} = {2}\".format(z1, z2,product))"
      ],
      "metadata": {
        "colab": {
          "base_uri": "https://localhost:8080/"
        },
        "id": "L_Cg6GJlvblh",
        "outputId": "68a4ff53-81f6-48fc-8997-244028ef178c"
      },
      "execution_count": null,
      "outputs": [
        {
          "output_type": "stream",
          "name": "stdout",
          "text": [
            "Enter the first number:12\n",
            "Enter the second number:12\n",
            "Sum: 12 * 12 = 144.0\n"
          ]
        }
      ]
    },
    {
      "cell_type": "code",
      "source": [
        "z1 = input(\"Enter the first number:\")\n",
        "z2 = input(\"Enter the second number:\")\n",
        "\n",
        "quotient = float(z1) / float(z2)\n",
        "print(\"Quotient: {0} / {1} = {2}\".format(z1, z2,quotient))"
      ],
      "metadata": {
        "colab": {
          "base_uri": "https://localhost:8080/"
        },
        "id": "NDDKZ-SIvyvV",
        "outputId": "bbc072d1-b180-4db8-958d-ecafdbc70080"
      },
      "execution_count": null,
      "outputs": [
        {
          "output_type": "stream",
          "name": "stdout",
          "text": [
            "Enter the first number:12\n",
            "Enter the second number:12\n",
            "Quotient: 12 / 12 = 1.0\n"
          ]
        }
      ]
    },
    {
      "cell_type": "code",
      "source": [
        "z1 = input(\"Enter the first number:\")\n",
        "z2 = input(\"Enter the second number:\")\n",
        "\n",
        "power = float(z1) ** float(z2)\n",
        "print(\"Power: {0} ** {1} = {2}\".format(z1, z2,power))"
      ],
      "metadata": {
        "colab": {
          "base_uri": "https://localhost:8080/"
        },
        "id": "xtFLDNEFwDXM",
        "outputId": "f4e83874-8f3e-4542-b62d-5a91268856b4"
      },
      "execution_count": null,
      "outputs": [
        {
          "output_type": "stream",
          "name": "stdout",
          "text": [
            "Enter the first number:12\n",
            "Enter the second number:12\n",
            "Power: 12 ** 12 = 8916100448256.0\n"
          ]
        }
      ]
    },
    {
      "cell_type": "code",
      "source": [
        "num1 = input(\"Enter the first number:\")\n",
        "2 = input(\"Enter the second number:\")\n",
        "\n",
        "remainder = float(z1) % float(z2)\n",
        "print('Division with remaider: {0} / {1} = 0.0\\n Remainder: {2}'.format(z1, z2,remainder))"
      ],
      "metadata": {
        "id": "cWuAQnoUwPrE"
      },
      "execution_count": null,
      "outputs": []
    }
  ]
}